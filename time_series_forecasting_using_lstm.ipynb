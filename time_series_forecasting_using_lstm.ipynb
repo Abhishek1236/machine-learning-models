{
  "nbformat": 4,
  "nbformat_minor": 0,
  "metadata": {
    "colab": {
      "name": "time series forecasting using lstm.ipynb",
      "provenance": []
    },
    "kernelspec": {
      "name": "python3",
      "display_name": "Python 3"
    }
  },
  "cells": [
    {
      "cell_type": "code",
      "metadata": {
        "id": "mwzpPuANEZ18",
        "colab_type": "code",
        "colab": {}
      },
      "source": [
        "import pandas as pd\n",
        "import numpy as np\n",
        "import matplotlib.pyplot as plt\n"
      ],
      "execution_count": 0,
      "outputs": []
    },
    {
      "cell_type": "code",
      "metadata": {
        "id": "K3kVVQmBGLFo",
        "colab_type": "code",
        "colab": {}
      },
      "source": [
        "data = pd.read_csv(\"/content/drive/My Drive/Final_Price_Data.csv\")"
      ],
      "execution_count": 0,
      "outputs": []
    },
    {
      "cell_type": "code",
      "metadata": {
        "id": "qQ0wuN9VGOaV",
        "colab_type": "code",
        "colab": {
          "base_uri": "https://localhost:8080/",
          "height": 196
        },
        "outputId": "20fc5470-8c47-4341-ff4f-e9fee75433e9"
      },
      "source": [
        "data.head()"
      ],
      "execution_count": 3,
      "outputs": [
        {
          "output_type": "execute_result",
          "data": {
            "text/html": [
              "<div>\n",
              "<style scoped>\n",
              "    .dataframe tbody tr th:only-of-type {\n",
              "        vertical-align: middle;\n",
              "    }\n",
              "\n",
              "    .dataframe tbody tr th {\n",
              "        vertical-align: top;\n",
              "    }\n",
              "\n",
              "    .dataframe thead th {\n",
              "        text-align: right;\n",
              "    }\n",
              "</style>\n",
              "<table border=\"1\" class=\"dataframe\">\n",
              "  <thead>\n",
              "    <tr style=\"text-align: right;\">\n",
              "      <th></th>\n",
              "      <th>Unnamed: 0</th>\n",
              "      <th>Date</th>\n",
              "      <th>MEDIUM (1.5 to 1.7 Kg)</th>\n",
              "      <th>MOTA (1.8 to 2.3 Kg)</th>\n",
              "      <th>PARENT (Per Kg)</th>\n",
              "      <th>TANDURI (1.1 to 1.3 Kg)</th>\n",
              "      <th>VEHICLE ARRIVED</th>\n",
              "    </tr>\n",
              "  </thead>\n",
              "  <tbody>\n",
              "    <tr>\n",
              "      <th>0</th>\n",
              "      <td>0</td>\n",
              "      <td>01/01/2012</td>\n",
              "      <td>50.0</td>\n",
              "      <td>52.0</td>\n",
              "      <td>50.0</td>\n",
              "      <td>48.0</td>\n",
              "      <td>170.0</td>\n",
              "    </tr>\n",
              "    <tr>\n",
              "      <th>1</th>\n",
              "      <td>1</td>\n",
              "      <td>01/02/2012</td>\n",
              "      <td>52.0</td>\n",
              "      <td>53.0</td>\n",
              "      <td>50.0</td>\n",
              "      <td>50.0</td>\n",
              "      <td>140.0</td>\n",
              "    </tr>\n",
              "    <tr>\n",
              "      <th>2</th>\n",
              "      <td>2</td>\n",
              "      <td>01/03/2012</td>\n",
              "      <td>NaN</td>\n",
              "      <td>NaN</td>\n",
              "      <td>NaN</td>\n",
              "      <td>NaN</td>\n",
              "      <td>NaN</td>\n",
              "    </tr>\n",
              "    <tr>\n",
              "      <th>3</th>\n",
              "      <td>3</td>\n",
              "      <td>01/04/2012</td>\n",
              "      <td>52.0</td>\n",
              "      <td>52.0</td>\n",
              "      <td>50.0</td>\n",
              "      <td>50.0</td>\n",
              "      <td>150.0</td>\n",
              "    </tr>\n",
              "    <tr>\n",
              "      <th>4</th>\n",
              "      <td>4</td>\n",
              "      <td>01/05/2012</td>\n",
              "      <td>50.0</td>\n",
              "      <td>50.0</td>\n",
              "      <td>50.0</td>\n",
              "      <td>48.0</td>\n",
              "      <td>110.0</td>\n",
              "    </tr>\n",
              "  </tbody>\n",
              "</table>\n",
              "</div>"
            ],
            "text/plain": [
              "   Unnamed: 0        Date  ... TANDURI (1.1 to 1.3 Kg) VEHICLE ARRIVED\n",
              "0           0  01/01/2012  ...                    48.0           170.0\n",
              "1           1  01/02/2012  ...                    50.0           140.0\n",
              "2           2  01/03/2012  ...                     NaN             NaN\n",
              "3           3  01/04/2012  ...                    50.0           150.0\n",
              "4           4  01/05/2012  ...                    48.0           110.0\n",
              "\n",
              "[5 rows x 7 columns]"
            ]
          },
          "metadata": {
            "tags": []
          },
          "execution_count": 3
        }
      ]
    },
    {
      "cell_type": "code",
      "metadata": {
        "id": "UWOI8BU9GYZd",
        "colab_type": "code",
        "colab": {
          "base_uri": "https://localhost:8080/",
          "height": 67
        },
        "outputId": "a15c2c5b-84b7-4b24-bce6-b77fd60200aa"
      },
      "source": [
        "data.columns"
      ],
      "execution_count": 4,
      "outputs": [
        {
          "output_type": "execute_result",
          "data": {
            "text/plain": [
              "Index(['Unnamed: 0', 'Date', 'MEDIUM (1.5 to 1.7 Kg)', 'MOTA (1.8 to 2.3 Kg)',\n",
              "       'PARENT (Per Kg)', 'TANDURI (1.1 to 1.3 Kg)', 'VEHICLE ARRIVED'],\n",
              "      dtype='object')"
            ]
          },
          "metadata": {
            "tags": []
          },
          "execution_count": 4
        }
      ]
    },
    {
      "cell_type": "code",
      "metadata": {
        "id": "a23O59ZpGPxZ",
        "colab_type": "code",
        "colab": {}
      },
      "source": [
        "data.drop(['Unnamed: 0','MEDIUM (1.5 to 1.7 Kg)','TANDURI (1.1 to 1.3 Kg)' ,'PARENT (Per Kg)','VEHICLE ARRIVED'],axis = 1,inplace = True)"
      ],
      "execution_count": 0,
      "outputs": []
    },
    {
      "cell_type": "code",
      "metadata": {
        "id": "YCGMZQqTGwlj",
        "colab_type": "code",
        "colab": {
          "base_uri": "https://localhost:8080/",
          "height": 196
        },
        "outputId": "58967f51-95a3-4ec2-fc41-ac7973237988"
      },
      "source": [
        "data.head()"
      ],
      "execution_count": 6,
      "outputs": [
        {
          "output_type": "execute_result",
          "data": {
            "text/html": [
              "<div>\n",
              "<style scoped>\n",
              "    .dataframe tbody tr th:only-of-type {\n",
              "        vertical-align: middle;\n",
              "    }\n",
              "\n",
              "    .dataframe tbody tr th {\n",
              "        vertical-align: top;\n",
              "    }\n",
              "\n",
              "    .dataframe thead th {\n",
              "        text-align: right;\n",
              "    }\n",
              "</style>\n",
              "<table border=\"1\" class=\"dataframe\">\n",
              "  <thead>\n",
              "    <tr style=\"text-align: right;\">\n",
              "      <th></th>\n",
              "      <th>Date</th>\n",
              "      <th>MOTA (1.8 to 2.3 Kg)</th>\n",
              "    </tr>\n",
              "  </thead>\n",
              "  <tbody>\n",
              "    <tr>\n",
              "      <th>0</th>\n",
              "      <td>01/01/2012</td>\n",
              "      <td>52.0</td>\n",
              "    </tr>\n",
              "    <tr>\n",
              "      <th>1</th>\n",
              "      <td>01/02/2012</td>\n",
              "      <td>53.0</td>\n",
              "    </tr>\n",
              "    <tr>\n",
              "      <th>2</th>\n",
              "      <td>01/03/2012</td>\n",
              "      <td>NaN</td>\n",
              "    </tr>\n",
              "    <tr>\n",
              "      <th>3</th>\n",
              "      <td>01/04/2012</td>\n",
              "      <td>52.0</td>\n",
              "    </tr>\n",
              "    <tr>\n",
              "      <th>4</th>\n",
              "      <td>01/05/2012</td>\n",
              "      <td>50.0</td>\n",
              "    </tr>\n",
              "  </tbody>\n",
              "</table>\n",
              "</div>"
            ],
            "text/plain": [
              "         Date MOTA (1.8 to 2.3 Kg)\n",
              "0  01/01/2012                 52.0\n",
              "1  01/02/2012                 53.0\n",
              "2  01/03/2012                  NaN\n",
              "3  01/04/2012                 52.0\n",
              "4  01/05/2012                 50.0"
            ]
          },
          "metadata": {
            "tags": []
          },
          "execution_count": 6
        }
      ]
    },
    {
      "cell_type": "code",
      "metadata": {
        "id": "n2wdZMldGyMO",
        "colab_type": "code",
        "colab": {}
      },
      "source": [
        "data['large'] = data['MOTA (1.8 to 2.3 Kg)'] "
      ],
      "execution_count": 0,
      "outputs": []
    },
    {
      "cell_type": "code",
      "metadata": {
        "id": "__DQh_DMG-eP",
        "colab_type": "code",
        "colab": {}
      },
      "source": [
        "data.drop(['MOTA (1.8 to 2.3 Kg)'],axis = 1,inplace= True)"
      ],
      "execution_count": 0,
      "outputs": []
    },
    {
      "cell_type": "code",
      "metadata": {
        "id": "Y2_z0k5dHHmQ",
        "colab_type": "code",
        "colab": {
          "base_uri": "https://localhost:8080/",
          "height": 196
        },
        "outputId": "d1884970-e7b2-427c-c83b-140b6f3e475d"
      },
      "source": [
        "data.head()"
      ],
      "execution_count": 9,
      "outputs": [
        {
          "output_type": "execute_result",
          "data": {
            "text/html": [
              "<div>\n",
              "<style scoped>\n",
              "    .dataframe tbody tr th:only-of-type {\n",
              "        vertical-align: middle;\n",
              "    }\n",
              "\n",
              "    .dataframe tbody tr th {\n",
              "        vertical-align: top;\n",
              "    }\n",
              "\n",
              "    .dataframe thead th {\n",
              "        text-align: right;\n",
              "    }\n",
              "</style>\n",
              "<table border=\"1\" class=\"dataframe\">\n",
              "  <thead>\n",
              "    <tr style=\"text-align: right;\">\n",
              "      <th></th>\n",
              "      <th>Date</th>\n",
              "      <th>large</th>\n",
              "    </tr>\n",
              "  </thead>\n",
              "  <tbody>\n",
              "    <tr>\n",
              "      <th>0</th>\n",
              "      <td>01/01/2012</td>\n",
              "      <td>52.0</td>\n",
              "    </tr>\n",
              "    <tr>\n",
              "      <th>1</th>\n",
              "      <td>01/02/2012</td>\n",
              "      <td>53.0</td>\n",
              "    </tr>\n",
              "    <tr>\n",
              "      <th>2</th>\n",
              "      <td>01/03/2012</td>\n",
              "      <td>NaN</td>\n",
              "    </tr>\n",
              "    <tr>\n",
              "      <th>3</th>\n",
              "      <td>01/04/2012</td>\n",
              "      <td>52.0</td>\n",
              "    </tr>\n",
              "    <tr>\n",
              "      <th>4</th>\n",
              "      <td>01/05/2012</td>\n",
              "      <td>50.0</td>\n",
              "    </tr>\n",
              "  </tbody>\n",
              "</table>\n",
              "</div>"
            ],
            "text/plain": [
              "         Date large\n",
              "0  01/01/2012  52.0\n",
              "1  01/02/2012  53.0\n",
              "2  01/03/2012   NaN\n",
              "3  01/04/2012  52.0\n",
              "4  01/05/2012  50.0"
            ]
          },
          "metadata": {
            "tags": []
          },
          "execution_count": 9
        }
      ]
    },
    {
      "cell_type": "code",
      "metadata": {
        "id": "onD1AG9bHJYt",
        "colab_type": "code",
        "colab": {
          "base_uri": "https://localhost:8080/",
          "height": 67
        },
        "outputId": "3911a805-887d-4f9a-ec9d-f0a239981b7b"
      },
      "source": [
        "data.isna().sum()"
      ],
      "execution_count": 12,
      "outputs": [
        {
          "output_type": "execute_result",
          "data": {
            "text/plain": [
              "Date     0\n",
              "large    0\n",
              "dtype: int64"
            ]
          },
          "metadata": {
            "tags": []
          },
          "execution_count": 12
        }
      ]
    },
    {
      "cell_type": "code",
      "metadata": {
        "id": "Xky5iwrSHMXG",
        "colab_type": "code",
        "colab": {}
      },
      "source": [
        "data['large'] = data['large'].fillna(method = 'ffill')"
      ],
      "execution_count": 0,
      "outputs": []
    },
    {
      "cell_type": "code",
      "metadata": {
        "id": "ym54kSMPHUED",
        "colab_type": "code",
        "colab": {
          "base_uri": "https://localhost:8080/",
          "height": 67
        },
        "outputId": "e38cd4e2-346a-4368-8e63-d7436a367821"
      },
      "source": [
        "data.dtypes"
      ],
      "execution_count": 17,
      "outputs": [
        {
          "output_type": "execute_result",
          "data": {
            "text/plain": [
              "Date     object\n",
              "large    object\n",
              "dtype: object"
            ]
          },
          "metadata": {
            "tags": []
          },
          "execution_count": 17
        }
      ]
    },
    {
      "cell_type": "code",
      "metadata": {
        "id": "N5qdBxP_HaK3",
        "colab_type": "code",
        "colab": {}
      },
      "source": [
        "data['large'] = data['large'].apply(pd.to_numeric, downcast='float', errors='coerce')"
      ],
      "execution_count": 0,
      "outputs": []
    },
    {
      "cell_type": "code",
      "metadata": {
        "id": "0FFLeUCdI-zF",
        "colab_type": "code",
        "colab": {
          "base_uri": "https://localhost:8080/",
          "height": 67
        },
        "outputId": "632596a5-6b35-45b7-cb69-53286cb8ea9a"
      },
      "source": [
        "data.isna().sum()"
      ],
      "execution_count": 23,
      "outputs": [
        {
          "output_type": "execute_result",
          "data": {
            "text/plain": [
              "Date       0\n",
              "large    106\n",
              "dtype: int64"
            ]
          },
          "metadata": {
            "tags": []
          },
          "execution_count": 23
        }
      ]
    },
    {
      "cell_type": "code",
      "metadata": {
        "id": "ACwHd-8FHvSa",
        "colab_type": "code",
        "colab": {}
      },
      "source": [
        "data['large']= data['large'].fillna(int(130))"
      ],
      "execution_count": 0,
      "outputs": []
    },
    {
      "cell_type": "code",
      "metadata": {
        "id": "K38DaNpVI8ms",
        "colab_type": "code",
        "colab": {}
      },
      "source": [
        "data['large'] = data['large'].astype(int)"
      ],
      "execution_count": 0,
      "outputs": []
    },
    {
      "cell_type": "code",
      "metadata": {
        "id": "vJxPZ-gxJMFz",
        "colab_type": "code",
        "colab": {
          "base_uri": "https://localhost:8080/",
          "height": 196
        },
        "outputId": "b9cdb652-c1d2-48d5-e442-f9927404bf5a"
      },
      "source": [
        "data.head()"
      ],
      "execution_count": 26,
      "outputs": [
        {
          "output_type": "execute_result",
          "data": {
            "text/html": [
              "<div>\n",
              "<style scoped>\n",
              "    .dataframe tbody tr th:only-of-type {\n",
              "        vertical-align: middle;\n",
              "    }\n",
              "\n",
              "    .dataframe tbody tr th {\n",
              "        vertical-align: top;\n",
              "    }\n",
              "\n",
              "    .dataframe thead th {\n",
              "        text-align: right;\n",
              "    }\n",
              "</style>\n",
              "<table border=\"1\" class=\"dataframe\">\n",
              "  <thead>\n",
              "    <tr style=\"text-align: right;\">\n",
              "      <th></th>\n",
              "      <th>Date</th>\n",
              "      <th>large</th>\n",
              "    </tr>\n",
              "  </thead>\n",
              "  <tbody>\n",
              "    <tr>\n",
              "      <th>0</th>\n",
              "      <td>01/01/2012</td>\n",
              "      <td>52</td>\n",
              "    </tr>\n",
              "    <tr>\n",
              "      <th>1</th>\n",
              "      <td>01/02/2012</td>\n",
              "      <td>53</td>\n",
              "    </tr>\n",
              "    <tr>\n",
              "      <th>2</th>\n",
              "      <td>01/03/2012</td>\n",
              "      <td>53</td>\n",
              "    </tr>\n",
              "    <tr>\n",
              "      <th>3</th>\n",
              "      <td>01/04/2012</td>\n",
              "      <td>52</td>\n",
              "    </tr>\n",
              "    <tr>\n",
              "      <th>4</th>\n",
              "      <td>01/05/2012</td>\n",
              "      <td>50</td>\n",
              "    </tr>\n",
              "  </tbody>\n",
              "</table>\n",
              "</div>"
            ],
            "text/plain": [
              "         Date  large\n",
              "0  01/01/2012     52\n",
              "1  01/02/2012     53\n",
              "2  01/03/2012     53\n",
              "3  01/04/2012     52\n",
              "4  01/05/2012     50"
            ]
          },
          "metadata": {
            "tags": []
          },
          "execution_count": 26
        }
      ]
    },
    {
      "cell_type": "code",
      "metadata": {
        "id": "4gkD02XMTBhL",
        "colab_type": "code",
        "colab": {}
      },
      "source": [
        "data.to_csv('test.csv')"
      ],
      "execution_count": 0,
      "outputs": []
    },
    {
      "cell_type": "code",
      "metadata": {
        "id": "8GuA2vvBJOxB",
        "colab_type": "code",
        "colab": {}
      },
      "source": [
        "train = data.iloc[:,1:2].values"
      ],
      "execution_count": 0,
      "outputs": []
    },
    {
      "cell_type": "code",
      "metadata": {
        "id": "ya7pfyiwJtbO",
        "colab_type": "code",
        "colab": {
          "base_uri": "https://localhost:8080/",
          "height": 33
        },
        "outputId": "18ebf6bb-bd8b-4727-f41d-27883d129116"
      },
      "source": [
        "train.shape"
      ],
      "execution_count": 28,
      "outputs": [
        {
          "output_type": "execute_result",
          "data": {
            "text/plain": [
              "(2583, 1)"
            ]
          },
          "metadata": {
            "tags": []
          },
          "execution_count": 28
        }
      ]
    },
    {
      "cell_type": "code",
      "metadata": {
        "id": "WVvHelKhJvCC",
        "colab_type": "code",
        "colab": {}
      },
      "source": [
        "from sklearn.preprocessing import MinMaxScaler\n",
        "sc = MinMaxScaler(feature_range = (0,1))\n",
        "training_set_scaled = sc.fit_transform(train)"
      ],
      "execution_count": 0,
      "outputs": []
    },
    {
      "cell_type": "code",
      "metadata": {
        "id": "FNpoXyirPNkc",
        "colab_type": "code",
        "colab": {
          "base_uri": "https://localhost:8080/",
          "height": 33
        },
        "outputId": "aff95365-1960-41a2-e7c7-21656c54e764"
      },
      "source": [
        "training_set_scaled.shape"
      ],
      "execution_count": 34,
      "outputs": [
        {
          "output_type": "execute_result",
          "data": {
            "text/plain": [
              "(2583, 1)"
            ]
          },
          "metadata": {
            "tags": []
          },
          "execution_count": 34
        }
      ]
    },
    {
      "cell_type": "code",
      "metadata": {
        "id": "zFA1hiiKJxG-",
        "colab_type": "code",
        "colab": {}
      },
      "source": [
        "# creating the data structure with 60 timesteps"
      ],
      "execution_count": 0,
      "outputs": []
    },
    {
      "cell_type": "code",
      "metadata": {
        "id": "varzerStKxas",
        "colab_type": "code",
        "colab": {}
      },
      "source": [
        "X_train = []\n",
        "y_train = []\n",
        "for i in range(40,2583):\n",
        "    X_train.append(training_set_scaled[i-40:i, 0])\n",
        "    y_train.append(training_set_scaled[i, 0])\n",
        "X_train, y_train = np.array(X_train), np.array(y_train)\n"
      ],
      "execution_count": 0,
      "outputs": []
    },
    {
      "cell_type": "code",
      "metadata": {
        "id": "5S2tVzHdL034",
        "colab_type": "code",
        "colab": {}
      },
      "source": [
        "X_train = np.reshape(X_train, (X_train.shape[0], X_train.shape[1], 1))"
      ],
      "execution_count": 0,
      "outputs": []
    },
    {
      "cell_type": "code",
      "metadata": {
        "id": "JN-W0olOL4jd",
        "colab_type": "code",
        "colab": {
          "base_uri": "https://localhost:8080/",
          "height": 283
        },
        "outputId": "5bfafa82-0fd6-48f5-e6d9-844ff8150848"
      },
      "source": [
        "# Part 2 - Building the RNN\n",
        "\n",
        "# Importing the Keras libraries and packages\n",
        "from keras.models import Sequential\n",
        "from keras.layers import Dense\n",
        "from keras.layers import LSTM\n",
        "from keras.layers import Dropout\n",
        "\n",
        "# Initialising the RNN\n",
        "regressor = Sequential()\n",
        "\n",
        "# Adding the first LSTM layer and some Dropout regularisation\n",
        "regressor.add(LSTM(units = 50, return_sequences = True, input_shape = (X_train.shape[1], 1)))\n",
        "regressor.add(Dropout(0.2))\n",
        "\n",
        "# Adding a second LSTM layer and some Dropout regularisation\n",
        "regressor.add(LSTM(units = 50, return_sequences = True))\n",
        "regressor.add(Dropout(0.2))\n",
        "\n",
        "# Adding a third LSTM layer and some Dropout regularisation\n",
        "regressor.add(LSTM(units = 50, return_sequences = True))\n",
        "regressor.add(Dropout(0.2))\n",
        "\n",
        "# Adding a fourth LSTM layer and some Dropout regularisation\n",
        "regressor.add(LSTM(units = 50))\n",
        "regressor.add(Dropout(0.2))\n",
        "\n",
        "# Adding the output layer\n",
        "regressor.add(Dense(units = 1))\n"
      ],
      "execution_count": 37,
      "outputs": [
        {
          "output_type": "stream",
          "text": [
            "Using TensorFlow backend.\n"
          ],
          "name": "stderr"
        },
        {
          "output_type": "display_data",
          "data": {
            "text/html": [
              "<p style=\"color: red;\">\n",
              "The default version of TensorFlow in Colab will soon switch to TensorFlow 2.x.<br>\n",
              "We recommend you <a href=\"https://www.tensorflow.org/guide/migrate\" target=\"_blank\">upgrade</a> now \n",
              "or ensure your notebook will continue to use TensorFlow 1.x via the <code>%tensorflow_version 1.x</code> magic:\n",
              "<a href=\"https://colab.research.google.com/notebooks/tensorflow_version.ipynb\" target=\"_blank\">more info</a>.</p>\n"
            ],
            "text/plain": [
              "<IPython.core.display.HTML object>"
            ]
          },
          "metadata": {
            "tags": []
          }
        },
        {
          "output_type": "stream",
          "text": [
            "WARNING:tensorflow:From /usr/local/lib/python3.6/dist-packages/keras/backend/tensorflow_backend.py:66: The name tf.get_default_graph is deprecated. Please use tf.compat.v1.get_default_graph instead.\n",
            "\n",
            "WARNING:tensorflow:From /usr/local/lib/python3.6/dist-packages/keras/backend/tensorflow_backend.py:541: The name tf.placeholder is deprecated. Please use tf.compat.v1.placeholder instead.\n",
            "\n",
            "WARNING:tensorflow:From /usr/local/lib/python3.6/dist-packages/keras/backend/tensorflow_backend.py:4432: The name tf.random_uniform is deprecated. Please use tf.random.uniform instead.\n",
            "\n",
            "WARNING:tensorflow:From /usr/local/lib/python3.6/dist-packages/keras/backend/tensorflow_backend.py:148: The name tf.placeholder_with_default is deprecated. Please use tf.compat.v1.placeholder_with_default instead.\n",
            "\n",
            "WARNING:tensorflow:From /usr/local/lib/python3.6/dist-packages/keras/backend/tensorflow_backend.py:3733: calling dropout (from tensorflow.python.ops.nn_ops) with keep_prob is deprecated and will be removed in a future version.\n",
            "Instructions for updating:\n",
            "Please use `rate` instead of `keep_prob`. Rate should be set to `rate = 1 - keep_prob`.\n"
          ],
          "name": "stdout"
        }
      ]
    },
    {
      "cell_type": "code",
      "metadata": {
        "id": "3mePNw0bQsIY",
        "colab_type": "code",
        "colab": {
          "base_uri": "https://localhost:8080/",
          "height": 1000
        },
        "outputId": "074bfedf-c0e3-4bd7-d730-e8ca964069ad"
      },
      "source": [
        "# Compiling the RNN\n",
        "regressor.compile(optimizer = 'adam', loss = 'mean_squared_error')\n",
        "\n",
        "# Fitting the RNN to the Training set\n",
        "regressor.fit(X_train, y_train, epochs = 100, batch_size = 40)"
      ],
      "execution_count": 38,
      "outputs": [
        {
          "output_type": "stream",
          "text": [
            "WARNING:tensorflow:From /usr/local/lib/python3.6/dist-packages/keras/optimizers.py:793: The name tf.train.Optimizer is deprecated. Please use tf.compat.v1.train.Optimizer instead.\n",
            "\n",
            "WARNING:tensorflow:From /usr/local/lib/python3.6/dist-packages/tensorflow_core/python/ops/math_grad.py:1424: where (from tensorflow.python.ops.array_ops) is deprecated and will be removed in a future version.\n",
            "Instructions for updating:\n",
            "Use tf.where in 2.0, which has the same broadcast rule as np.where\n",
            "WARNING:tensorflow:From /usr/local/lib/python3.6/dist-packages/keras/backend/tensorflow_backend.py:1033: The name tf.assign_add is deprecated. Please use tf.compat.v1.assign_add instead.\n",
            "\n",
            "WARNING:tensorflow:From /usr/local/lib/python3.6/dist-packages/keras/backend/tensorflow_backend.py:1020: The name tf.assign is deprecated. Please use tf.compat.v1.assign instead.\n",
            "\n",
            "WARNING:tensorflow:From /usr/local/lib/python3.6/dist-packages/keras/backend/tensorflow_backend.py:3005: The name tf.Session is deprecated. Please use tf.compat.v1.Session instead.\n",
            "\n",
            "Epoch 1/100\n",
            "WARNING:tensorflow:From /usr/local/lib/python3.6/dist-packages/keras/backend/tensorflow_backend.py:190: The name tf.get_default_session is deprecated. Please use tf.compat.v1.get_default_session instead.\n",
            "\n",
            "WARNING:tensorflow:From /usr/local/lib/python3.6/dist-packages/keras/backend/tensorflow_backend.py:197: The name tf.ConfigProto is deprecated. Please use tf.compat.v1.ConfigProto instead.\n",
            "\n",
            "WARNING:tensorflow:From /usr/local/lib/python3.6/dist-packages/keras/backend/tensorflow_backend.py:207: The name tf.global_variables is deprecated. Please use tf.compat.v1.global_variables instead.\n",
            "\n",
            "WARNING:tensorflow:From /usr/local/lib/python3.6/dist-packages/keras/backend/tensorflow_backend.py:216: The name tf.is_variable_initialized is deprecated. Please use tf.compat.v1.is_variable_initialized instead.\n",
            "\n",
            "WARNING:tensorflow:From /usr/local/lib/python3.6/dist-packages/keras/backend/tensorflow_backend.py:223: The name tf.variables_initializer is deprecated. Please use tf.compat.v1.variables_initializer instead.\n",
            "\n",
            "2543/2543 [==============================] - 12s 5ms/step - loss: 0.0399\n",
            "Epoch 2/100\n",
            "2543/2543 [==============================] - 9s 4ms/step - loss: 0.0272\n",
            "Epoch 3/100\n",
            "2543/2543 [==============================] - 9s 4ms/step - loss: 0.0247\n",
            "Epoch 4/100\n",
            "2543/2543 [==============================] - 9s 4ms/step - loss: 0.0241\n",
            "Epoch 5/100\n",
            "2543/2543 [==============================] - 9s 4ms/step - loss: 0.0235\n",
            "Epoch 6/100\n",
            "2543/2543 [==============================] - 9s 4ms/step - loss: 0.0229\n",
            "Epoch 7/100\n",
            "2543/2543 [==============================] - 9s 4ms/step - loss: 0.0226\n",
            "Epoch 8/100\n",
            "2543/2543 [==============================] - 9s 4ms/step - loss: 0.0231\n",
            "Epoch 9/100\n",
            "2543/2543 [==============================] - 9s 4ms/step - loss: 0.0233\n",
            "Epoch 10/100\n",
            "2543/2543 [==============================] - 9s 4ms/step - loss: 0.0225\n",
            "Epoch 11/100\n",
            "2543/2543 [==============================] - 9s 4ms/step - loss: 0.0225\n",
            "Epoch 12/100\n",
            "2543/2543 [==============================] - 9s 4ms/step - loss: 0.0220\n",
            "Epoch 13/100\n",
            "2543/2543 [==============================] - 9s 4ms/step - loss: 0.0221\n",
            "Epoch 14/100\n",
            "2543/2543 [==============================] - 9s 4ms/step - loss: 0.0221\n",
            "Epoch 15/100\n",
            "2543/2543 [==============================] - 9s 4ms/step - loss: 0.0222\n",
            "Epoch 16/100\n",
            "2543/2543 [==============================] - 9s 4ms/step - loss: 0.0223\n",
            "Epoch 17/100\n",
            "2543/2543 [==============================] - 9s 4ms/step - loss: 0.0223\n",
            "Epoch 18/100\n",
            "2543/2543 [==============================] - 9s 4ms/step - loss: 0.0215\n",
            "Epoch 19/100\n",
            "2543/2543 [==============================] - 9s 4ms/step - loss: 0.0217\n",
            "Epoch 20/100\n",
            "2543/2543 [==============================] - 10s 4ms/step - loss: 0.0221\n",
            "Epoch 21/100\n",
            "2543/2543 [==============================] - 9s 4ms/step - loss: 0.0220\n",
            "Epoch 22/100\n",
            "2543/2543 [==============================] - 9s 4ms/step - loss: 0.0219\n",
            "Epoch 23/100\n",
            "2543/2543 [==============================] - 9s 4ms/step - loss: 0.0220\n",
            "Epoch 24/100\n",
            "2543/2543 [==============================] - 9s 4ms/step - loss: 0.0219\n",
            "Epoch 25/100\n",
            "2543/2543 [==============================] - 9s 4ms/step - loss: 0.0217\n",
            "Epoch 26/100\n",
            "2543/2543 [==============================] - 9s 4ms/step - loss: 0.0217\n",
            "Epoch 27/100\n",
            "2543/2543 [==============================] - 9s 3ms/step - loss: 0.0218\n",
            "Epoch 28/100\n",
            "2543/2543 [==============================] - 9s 4ms/step - loss: 0.0215\n",
            "Epoch 29/100\n",
            "2543/2543 [==============================] - 9s 4ms/step - loss: 0.0215\n",
            "Epoch 30/100\n",
            "2543/2543 [==============================] - 9s 4ms/step - loss: 0.0218\n",
            "Epoch 31/100\n",
            "2543/2543 [==============================] - 9s 4ms/step - loss: 0.0214\n",
            "Epoch 32/100\n",
            "2543/2543 [==============================] - 9s 4ms/step - loss: 0.0216\n",
            "Epoch 33/100\n",
            "2543/2543 [==============================] - 9s 4ms/step - loss: 0.0216\n",
            "Epoch 34/100\n",
            "2543/2543 [==============================] - 9s 4ms/step - loss: 0.0216\n",
            "Epoch 35/100\n",
            "2543/2543 [==============================] - 9s 4ms/step - loss: 0.0216\n",
            "Epoch 36/100\n",
            "2543/2543 [==============================] - 9s 4ms/step - loss: 0.0211\n",
            "Epoch 37/100\n",
            "2543/2543 [==============================] - 9s 4ms/step - loss: 0.0216\n",
            "Epoch 38/100\n",
            "2543/2543 [==============================] - 9s 4ms/step - loss: 0.0211\n",
            "Epoch 39/100\n",
            "2543/2543 [==============================] - 9s 4ms/step - loss: 0.0220\n",
            "Epoch 40/100\n",
            "2543/2543 [==============================] - 9s 4ms/step - loss: 0.0211\n",
            "Epoch 41/100\n",
            "2543/2543 [==============================] - 9s 4ms/step - loss: 0.0208\n",
            "Epoch 42/100\n",
            "2543/2543 [==============================] - 9s 4ms/step - loss: 0.0195\n",
            "Epoch 43/100\n",
            "2543/2543 [==============================] - 9s 4ms/step - loss: 0.0192\n",
            "Epoch 44/100\n",
            "2543/2543 [==============================] - 9s 4ms/step - loss: 0.0190\n",
            "Epoch 45/100\n",
            "2543/2543 [==============================] - 9s 4ms/step - loss: 0.0187\n",
            "Epoch 46/100\n",
            "2543/2543 [==============================] - 9s 4ms/step - loss: 0.0180\n",
            "Epoch 47/100\n",
            "2543/2543 [==============================] - 9s 4ms/step - loss: 0.0176\n",
            "Epoch 48/100\n",
            "2543/2543 [==============================] - 9s 4ms/step - loss: 0.0183\n",
            "Epoch 49/100\n",
            "2543/2543 [==============================] - 9s 4ms/step - loss: 0.0168\n",
            "Epoch 50/100\n",
            "2543/2543 [==============================] - 9s 4ms/step - loss: 0.0155\n",
            "Epoch 51/100\n",
            "2543/2543 [==============================] - 9s 4ms/step - loss: 0.0136\n",
            "Epoch 52/100\n",
            "2543/2543 [==============================] - 9s 4ms/step - loss: 0.0130\n",
            "Epoch 53/100\n",
            "2543/2543 [==============================] - 9s 4ms/step - loss: 0.0132\n",
            "Epoch 54/100\n",
            "2543/2543 [==============================] - 9s 4ms/step - loss: 0.0117\n",
            "Epoch 55/100\n",
            "2543/2543 [==============================] - 9s 4ms/step - loss: 0.0115\n",
            "Epoch 56/100\n",
            "2543/2543 [==============================] - 9s 4ms/step - loss: 0.0114\n",
            "Epoch 57/100\n",
            "2543/2543 [==============================] - 9s 4ms/step - loss: 0.0119\n",
            "Epoch 58/100\n",
            "2543/2543 [==============================] - 9s 4ms/step - loss: 0.0112\n",
            "Epoch 59/100\n",
            "2543/2543 [==============================] - 9s 4ms/step - loss: 0.0107\n",
            "Epoch 60/100\n",
            "2543/2543 [==============================] - 9s 4ms/step - loss: 0.0104\n",
            "Epoch 61/100\n",
            "2543/2543 [==============================] - 9s 4ms/step - loss: 0.0104\n",
            "Epoch 62/100\n",
            "2543/2543 [==============================] - 9s 4ms/step - loss: 0.0102\n",
            "Epoch 63/100\n",
            "2543/2543 [==============================] - 9s 4ms/step - loss: 0.0103\n",
            "Epoch 64/100\n",
            "2543/2543 [==============================] - 9s 4ms/step - loss: 0.0097\n",
            "Epoch 65/100\n",
            "2543/2543 [==============================] - 9s 4ms/step - loss: 0.0096\n",
            "Epoch 66/100\n",
            "2543/2543 [==============================] - 9s 4ms/step - loss: 0.0093\n",
            "Epoch 67/100\n",
            "2543/2543 [==============================] - 9s 4ms/step - loss: 0.0095\n",
            "Epoch 68/100\n",
            "2543/2543 [==============================] - 9s 4ms/step - loss: 0.0090\n",
            "Epoch 69/100\n",
            "2543/2543 [==============================] - 9s 4ms/step - loss: 0.0086\n",
            "Epoch 70/100\n",
            "2543/2543 [==============================] - 9s 4ms/step - loss: 0.0090\n",
            "Epoch 71/100\n",
            "2543/2543 [==============================] - 9s 4ms/step - loss: 0.0085\n",
            "Epoch 72/100\n",
            "2543/2543 [==============================] - 9s 4ms/step - loss: 0.0088\n",
            "Epoch 73/100\n",
            "2543/2543 [==============================] - 9s 4ms/step - loss: 0.0087\n",
            "Epoch 74/100\n",
            "2543/2543 [==============================] - 9s 4ms/step - loss: 0.0083\n",
            "Epoch 75/100\n",
            "2543/2543 [==============================] - 9s 4ms/step - loss: 0.0081\n",
            "Epoch 76/100\n",
            "2543/2543 [==============================] - 9s 4ms/step - loss: 0.0081\n",
            "Epoch 77/100\n",
            "2543/2543 [==============================] - 9s 4ms/step - loss: 0.0083\n",
            "Epoch 78/100\n",
            "2543/2543 [==============================] - 9s 4ms/step - loss: 0.0080\n",
            "Epoch 79/100\n",
            "2543/2543 [==============================] - 9s 4ms/step - loss: 0.0078\n",
            "Epoch 80/100\n",
            "2543/2543 [==============================] - 9s 4ms/step - loss: 0.0078\n",
            "Epoch 81/100\n",
            "2543/2543 [==============================] - 9s 4ms/step - loss: 0.0074\n",
            "Epoch 82/100\n",
            "2543/2543 [==============================] - 9s 4ms/step - loss: 0.0075\n",
            "Epoch 83/100\n",
            "2543/2543 [==============================] - 9s 4ms/step - loss: 0.0075\n",
            "Epoch 84/100\n",
            "2543/2543 [==============================] - 9s 4ms/step - loss: 0.0077\n",
            "Epoch 85/100\n",
            "2543/2543 [==============================] - 9s 4ms/step - loss: 0.0072\n",
            "Epoch 86/100\n",
            "2543/2543 [==============================] - 9s 4ms/step - loss: 0.0072\n",
            "Epoch 87/100\n",
            "2543/2543 [==============================] - 9s 4ms/step - loss: 0.0067\n",
            "Epoch 88/100\n",
            "2543/2543 [==============================] - 10s 4ms/step - loss: 0.0069\n",
            "Epoch 89/100\n",
            "2543/2543 [==============================] - 9s 4ms/step - loss: 0.0067\n",
            "Epoch 90/100\n",
            "2543/2543 [==============================] - 9s 4ms/step - loss: 0.0069\n",
            "Epoch 91/100\n",
            "2543/2543 [==============================] - 9s 4ms/step - loss: 0.0068\n",
            "Epoch 92/100\n",
            "2543/2543 [==============================] - 9s 4ms/step - loss: 0.0067\n",
            "Epoch 93/100\n",
            "2543/2543 [==============================] - 9s 4ms/step - loss: 0.0070\n",
            "Epoch 94/100\n",
            "2543/2543 [==============================] - 9s 4ms/step - loss: 0.0069\n",
            "Epoch 95/100\n",
            "2543/2543 [==============================] - 9s 4ms/step - loss: 0.0064\n",
            "Epoch 96/100\n",
            "2543/2543 [==============================] - 9s 4ms/step - loss: 0.0063\n",
            "Epoch 97/100\n",
            "2543/2543 [==============================] - 9s 4ms/step - loss: 0.0067\n",
            "Epoch 98/100\n",
            "2543/2543 [==============================] - 9s 4ms/step - loss: 0.0062\n",
            "Epoch 99/100\n",
            "2543/2543 [==============================] - 9s 4ms/step - loss: 0.0061\n",
            "Epoch 100/100\n",
            "2543/2543 [==============================] - 9s 4ms/step - loss: 0.0062\n"
          ],
          "name": "stdout"
        },
        {
          "output_type": "execute_result",
          "data": {
            "text/plain": [
              "<keras.callbacks.History at 0x7fe4d60d0780>"
            ]
          },
          "metadata": {
            "tags": []
          },
          "execution_count": 38
        }
      ]
    },
    {
      "cell_type": "code",
      "metadata": {
        "id": "PnhUf8eeRaMU",
        "colab_type": "code",
        "colab": {
          "base_uri": "https://localhost:8080/",
          "height": 33
        },
        "outputId": "fe5dcae6-559a-4527-eed0-15a05ec94c2c"
      },
      "source": [
        "train.dtype"
      ],
      "execution_count": 44,
      "outputs": [
        {
          "output_type": "execute_result",
          "data": {
            "text/plain": [
              "dtype('int64')"
            ]
          },
          "metadata": {
            "tags": []
          },
          "execution_count": 44
        }
      ]
    },
    {
      "cell_type": "code",
      "metadata": {
        "id": "56nNspcCV6DI",
        "colab_type": "code",
        "colab": {}
      },
      "source": [
        "test = data.iloc[2563:2583,:]"
      ],
      "execution_count": 0,
      "outputs": []
    },
    {
      "cell_type": "code",
      "metadata": {
        "id": "ong7A5h1V7aK",
        "colab_type": "code",
        "colab": {
          "base_uri": "https://localhost:8080/",
          "height": 196
        },
        "outputId": "a6de96ae-9574-41f5-babd-abc855dbc593"
      },
      "source": [
        "test.head()"
      ],
      "execution_count": 48,
      "outputs": [
        {
          "output_type": "execute_result",
          "data": {
            "text/html": [
              "<div>\n",
              "<style scoped>\n",
              "    .dataframe tbody tr th:only-of-type {\n",
              "        vertical-align: middle;\n",
              "    }\n",
              "\n",
              "    .dataframe tbody tr th {\n",
              "        vertical-align: top;\n",
              "    }\n",
              "\n",
              "    .dataframe thead th {\n",
              "        text-align: right;\n",
              "    }\n",
              "</style>\n",
              "<table border=\"1\" class=\"dataframe\">\n",
              "  <thead>\n",
              "    <tr style=\"text-align: right;\">\n",
              "      <th></th>\n",
              "      <th>Date</th>\n",
              "      <th>large</th>\n",
              "    </tr>\n",
              "  </thead>\n",
              "  <tbody>\n",
              "    <tr>\n",
              "      <th>2563</th>\n",
              "      <td>2019-07-01</td>\n",
              "      <td>78</td>\n",
              "    </tr>\n",
              "    <tr>\n",
              "      <th>2564</th>\n",
              "      <td>2019-08-01</td>\n",
              "      <td>78</td>\n",
              "    </tr>\n",
              "    <tr>\n",
              "      <th>2565</th>\n",
              "      <td>2019-09-01</td>\n",
              "      <td>78</td>\n",
              "    </tr>\n",
              "    <tr>\n",
              "      <th>2566</th>\n",
              "      <td>2019-10-01</td>\n",
              "      <td>78</td>\n",
              "    </tr>\n",
              "    <tr>\n",
              "      <th>2567</th>\n",
              "      <td>2019-11-01</td>\n",
              "      <td>78</td>\n",
              "    </tr>\n",
              "  </tbody>\n",
              "</table>\n",
              "</div>"
            ],
            "text/plain": [
              "            Date  large\n",
              "2563  2019-07-01     78\n",
              "2564  2019-08-01     78\n",
              "2565  2019-09-01     78\n",
              "2566  2019-10-01     78\n",
              "2567  2019-11-01     78"
            ]
          },
          "metadata": {
            "tags": []
          },
          "execution_count": 48
        }
      ]
    },
    {
      "cell_type": "code",
      "metadata": {
        "id": "ba7lDfR8WpoW",
        "colab_type": "code",
        "colab": {}
      },
      "source": [
        "dataset_total = pd.concat((data['large'],test['large']), axis = 0)"
      ],
      "execution_count": 0,
      "outputs": []
    },
    {
      "cell_type": "code",
      "metadata": {
        "id": "tVTyGntcXKrp",
        "colab_type": "code",
        "colab": {
          "base_uri": "https://localhost:8080/",
          "height": 33
        },
        "outputId": "9c7e2c4a-a0ed-4147-fb80-63ab913ac7b6"
      },
      "source": [
        ""
      ],
      "execution_count": 52,
      "outputs": [
        {
          "output_type": "execute_result",
          "data": {
            "text/plain": [
              "dtype('int64')"
            ]
          },
          "metadata": {
            "tags": []
          },
          "execution_count": 52
        }
      ]
    },
    {
      "cell_type": "code",
      "metadata": {
        "id": "b1sbfMe7XAQ0",
        "colab_type": "code",
        "colab": {}
      },
      "source": [
        "inputs = dataset_total[len(dataset_total) - len(test) - 40:].values"
      ],
      "execution_count": 0,
      "outputs": []
    },
    {
      "cell_type": "code",
      "metadata": {
        "id": "V3FbmczqXSIF",
        "colab_type": "code",
        "colab": {}
      },
      "source": [
        "inputs = inputs.reshape(-1,1)\n",
        "inputs = sc.transform(inputs)\n",
        "X_test = []\n",
        "for i in range(40, 60):\n",
        "    X_test.append(inputs[i-40:i, 0])\n",
        "X_test = np.array(X_test)\n",
        "X_test = np.reshape(X_test, (X_test.shape[0], X_test.shape[1], 1))\n",
        "predicted_stock_price = regressor.predict(X_test)\n",
        "predicted_stock_price = sc.inverse_transform(predicted_stock_price)"
      ],
      "execution_count": 0,
      "outputs": []
    },
    {
      "cell_type": "code",
      "metadata": {
        "id": "4B1gMIHEXe2R",
        "colab_type": "code",
        "colab": {
          "base_uri": "https://localhost:8080/",
          "height": 351
        },
        "outputId": "0a30bcbd-caeb-4e37-9c1a-1f7d27cb40d4"
      },
      "source": [
        "predicted_stock_price"
      ],
      "execution_count": 56,
      "outputs": [
        {
          "output_type": "execute_result",
          "data": {
            "text/plain": [
              "array([[78.16215 ],\n",
              "       [78.18902 ],\n",
              "       [78.18024 ],\n",
              "       [78.15529 ],\n",
              "       [78.13561 ],\n",
              "       [78.13432 ],\n",
              "       [78.14896 ],\n",
              "       [78.16593 ],\n",
              "       [78.17832 ],\n",
              "       [78.172646],\n",
              "       [78.164215],\n",
              "       [78.15934 ],\n",
              "       [78.15934 ],\n",
              "       [78.15934 ],\n",
              "       [78.15934 ],\n",
              "       [78.15934 ],\n",
              "       [78.15934 ],\n",
              "       [78.15934 ],\n",
              "       [78.15934 ],\n",
              "       [78.15934 ]], dtype=float32)"
            ]
          },
          "metadata": {
            "tags": []
          },
          "execution_count": 56
        }
      ]
    },
    {
      "cell_type": "code",
      "metadata": {
        "id": "ufhIgASJYj3D",
        "colab_type": "code",
        "colab": {}
      },
      "source": [
        "real_price = test.iloc[:, 1:2].values"
      ],
      "execution_count": 0,
      "outputs": []
    },
    {
      "cell_type": "code",
      "metadata": {
        "id": "5t0IfrHFXhGi",
        "colab_type": "code",
        "colab": {
          "base_uri": "https://localhost:8080/",
          "height": 295
        },
        "outputId": "c9f43caf-21dc-41ef-bc3f-b7c031599970"
      },
      "source": [
        "# Visualising the results\n",
        "plt.plot(real_price, color = 'red', label = 'Real  Price')\n",
        "plt.plot(predicted_stock_price, color = 'blue', label = 'Predicted  Price')\n",
        "plt.title(' Price Prediction')\n",
        "plt.xlabel('Time')\n",
        "plt.ylabel('Price')\n",
        "plt.legend()\n",
        "plt.show()"
      ],
      "execution_count": 60,
      "outputs": [
        {
          "output_type": "display_data",
          "data": {
            "image/png": "[encoded data removed]",
            "text/plain": [
              "<Figure size 432x288 with 1 Axes>"
            ]
          },
          "metadata": {
            "tags": []
          }
        }
      ]
    },
    {
      "cell_type": "code",
      "metadata": {
        "id": "CkYTrPJyYuZR",
        "colab_type": "code",
        "colab": {}
      },
      "source": [
        ""
      ],
      "execution_count": 0,
      "outputs": []
    }
  ]
}